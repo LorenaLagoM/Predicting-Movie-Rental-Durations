{
 "cells": [
  {
   "cell_type": "code",
   "execution_count": 1,
   "id": "a7ede566-910a-445c-b11a-68d192ac8506",
   "metadata": {
    "executionCancelledAt": null,
    "executionTime": 23443,
    "lastExecutedAt": 1706880382129,
    "lastScheduledRunId": null,
    "lastSuccessfullyExecutedCode": "import pandas as pd\nimport numpy as np\n\nfrom sklearn.model_selection import train_test_split\nfrom sklearn.metrics import mean_squared_error\n\n# Import any additional modules and start coding below\n# Import to lasso\nfrom sklearn.linear_model import Lasso\nfrom sklearn.model_selection import train_test_split\nfrom sklearn.preprocessing import StandardScaler\n\n# Import to Run OLS\nfrom sklearn.linear_model import LinearRegression\nfrom sklearn.metrics import mean_squared_error\n\n# Import to Random forest\nfrom sklearn.ensemble import RandomForestRegressor\nfrom sklearn.model_selection import RandomizedSearchCV\n\n# Read in data\ndf_rental = pd.read_csv(\"rental_info.csv\")\n\n# Add information on rental duration\ndf_rental[\"rental_length\"] = pd.to_datetime(df_rental[\"return_date\"]) - pd.to_datetime(df_rental[\"rental_date\"])\ndf_rental[\"rental_length_days\"] = df_rental[\"rental_length\"].dt.days\n\n#Add dummy variables\n# Add dummy for deleted scenes\ndf_rental[\"deleted_scenes\"] =  np.where(df_rental[\"special_features\"].str.contains(\"Deleted Scenes\"), 1, 0)\n# Add dummy for behind the scenes\ndf_rental[\"behind_the_scenes\"] =  np.where(df_rental[\"special_features\"].str.contains(\"Behind the Scenes\"), 1, 0)\n\n# Choose columns to drop\ncols_to_drop = [\"special_features\", \"rental_length\", \"rental_length_days\", \"rental_date\", \"return_date\"]\n\n# Split into feature and target sets\nX = df_rental.drop(cols_to_drop, axis=1)\ny = df_rental[\"rental_length_days\"]\n\n# Split dataset into 80% train and 20% test\nX_train,X_test,y_train,y_test = train_test_split(X, \n                                                 y, \n                                                 test_size=0.2, \n                                                 random_state=9)\n\n# Create the Lasso model\nlasso = Lasso(alpha=0.3, random_state=9) \n\n# Train the model \nlasso.fit(X_train, y_train)\n#Access the coefficients\nlasso_coef = lasso.coef_\n\n# Choosing columns with positive coefficients\nX_lasso_train, X_lasso_test = X_train.iloc[:, lasso_coef > 0], X_test.iloc[:, lasso_coef > 0]\n\n# Run OLS models on lasso chosen regression\nols = LinearRegression()\nols = ols.fit(X_lasso_train, y_train)\ny_test_pred = ols.predict(X_lasso_test)\nmse_lin_reg_lasso = mean_squared_error(y_test, y_test_pred)\n\n# Random forest hyperparameter space\nparam_dist = {'n_estimators': np.arange(1,101,1),\n          'max_depth':np.arange(1,11,1)}\n\n# Instantiate a Random Forest Regressor\nrf = RandomForestRegressor()\n\n# Use random search to find the best hyperparameters\nrand_search = RandomizedSearchCV(rf, \n                                 param_distributions=param_dist, \n                                 cv=5, \n                                 random_state=9)\n\n# Fit rand_search to the training set\nrand_search.fit(X_train, y_train)\n\n# Extract the best hyperparameters\nhyper_params = rand_search.best_params_\n\n# Instantiate the RFRegressor with the chosen hyperparameters\nrf = RandomForestRegressor(n_estimators=hyper_params[\"n_estimators\"], \n                           max_depth=hyper_params[\"max_depth\"], \n                           random_state=9)\n\n# Fit 'rf' to the training set\nrf.fit(X_train,y_train)\n\n#Predict test set \nrf_pred = rf.predict(X_test)\n\n#Evaluate the test set\nmse_random_forest= mean_squared_error(y_test, rf_pred)\n\n# Random forest gives lowest MSE so:\nbest_model = rf\nbest_mse = mse_random_forest\nbest_mse"
   },
   "outputs": [
    {
     "name": "stderr",
     "output_type": "stream",
     "text": [
      "C:\\Users\\USUARIO\\AppData\\Local\\Temp\\ipykernel_14412\\85266224.py:1: DeprecationWarning: \n",
      "Pyarrow will become a required dependency of pandas in the next major release of pandas (pandas 3.0),\n",
      "(to allow more performant data types, such as the Arrow string type, and better interoperability with other libraries)\n",
      "but was not found to be installed on your system.\n",
      "If this would cause problems for you,\n",
      "please provide us feedback at https://github.com/pandas-dev/pandas/issues/54466\n",
      "        \n",
      "  import pandas as pd\n"
     ]
    }
   ],
   "source": [
    "import pandas as pd\n",
    "import numpy as np\n",
    "\n",
    "from sklearn.model_selection import train_test_split\n",
    "from sklearn.metrics import mean_squared_error\n",
    "from sklearn.linear_model import Lasso\n",
    "from sklearn.model_selection import train_test_split\n",
    "from sklearn.preprocessing import StandardScaler\n",
    "from sklearn.linear_model import LinearRegression\n",
    "from sklearn.metrics import mean_squared_error\n",
    "from sklearn.ensemble import RandomForestRegressor\n",
    "from sklearn.model_selection import RandomizedSearchCV"
   ]
  },
  {
   "cell_type": "code",
   "execution_count": 2,
   "id": "b044eb4c-ead4-4ffe-977a-1d0882a9dde5",
   "metadata": {},
   "outputs": [],
   "source": [
    "# Read in data\n",
    "df_rental = pd.read_csv(\"rental_info.csv\")"
   ]
  },
  {
   "cell_type": "code",
   "execution_count": 3,
   "id": "f4be28d8-11b2-4129-b928-9733beae93aa",
   "metadata": {},
   "outputs": [
    {
     "data": {
      "text/html": [
       "<div>\n",
       "<style scoped>\n",
       "    .dataframe tbody tr th:only-of-type {\n",
       "        vertical-align: middle;\n",
       "    }\n",
       "\n",
       "    .dataframe tbody tr th {\n",
       "        vertical-align: top;\n",
       "    }\n",
       "\n",
       "    .dataframe thead th {\n",
       "        text-align: right;\n",
       "    }\n",
       "</style>\n",
       "<table border=\"1\" class=\"dataframe\">\n",
       "  <thead>\n",
       "    <tr style=\"text-align: right;\">\n",
       "      <th></th>\n",
       "      <th>rental_date</th>\n",
       "      <th>return_date</th>\n",
       "      <th>amount</th>\n",
       "      <th>release_year</th>\n",
       "      <th>rental_rate</th>\n",
       "      <th>length</th>\n",
       "      <th>replacement_cost</th>\n",
       "      <th>special_features</th>\n",
       "      <th>NC-17</th>\n",
       "      <th>PG</th>\n",
       "      <th>PG-13</th>\n",
       "      <th>R</th>\n",
       "      <th>amount_2</th>\n",
       "      <th>length_2</th>\n",
       "      <th>rental_rate_2</th>\n",
       "    </tr>\n",
       "  </thead>\n",
       "  <tbody>\n",
       "    <tr>\n",
       "      <th>0</th>\n",
       "      <td>2005-05-25 02:54:33+00:00</td>\n",
       "      <td>2005-05-28 23:40:33+00:00</td>\n",
       "      <td>2.99</td>\n",
       "      <td>2005.0</td>\n",
       "      <td>2.99</td>\n",
       "      <td>126.0</td>\n",
       "      <td>16.99</td>\n",
       "      <td>{Trailers,\"Behind the Scenes\"}</td>\n",
       "      <td>0</td>\n",
       "      <td>0</td>\n",
       "      <td>0</td>\n",
       "      <td>1</td>\n",
       "      <td>8.9401</td>\n",
       "      <td>15876.0</td>\n",
       "      <td>8.9401</td>\n",
       "    </tr>\n",
       "    <tr>\n",
       "      <th>1</th>\n",
       "      <td>2005-06-15 23:19:16+00:00</td>\n",
       "      <td>2005-06-18 19:24:16+00:00</td>\n",
       "      <td>2.99</td>\n",
       "      <td>2005.0</td>\n",
       "      <td>2.99</td>\n",
       "      <td>126.0</td>\n",
       "      <td>16.99</td>\n",
       "      <td>{Trailers,\"Behind the Scenes\"}</td>\n",
       "      <td>0</td>\n",
       "      <td>0</td>\n",
       "      <td>0</td>\n",
       "      <td>1</td>\n",
       "      <td>8.9401</td>\n",
       "      <td>15876.0</td>\n",
       "      <td>8.9401</td>\n",
       "    </tr>\n",
       "    <tr>\n",
       "      <th>2</th>\n",
       "      <td>2005-07-10 04:27:45+00:00</td>\n",
       "      <td>2005-07-17 10:11:45+00:00</td>\n",
       "      <td>2.99</td>\n",
       "      <td>2005.0</td>\n",
       "      <td>2.99</td>\n",
       "      <td>126.0</td>\n",
       "      <td>16.99</td>\n",
       "      <td>{Trailers,\"Behind the Scenes\"}</td>\n",
       "      <td>0</td>\n",
       "      <td>0</td>\n",
       "      <td>0</td>\n",
       "      <td>1</td>\n",
       "      <td>8.9401</td>\n",
       "      <td>15876.0</td>\n",
       "      <td>8.9401</td>\n",
       "    </tr>\n",
       "    <tr>\n",
       "      <th>3</th>\n",
       "      <td>2005-07-31 12:06:41+00:00</td>\n",
       "      <td>2005-08-02 14:30:41+00:00</td>\n",
       "      <td>2.99</td>\n",
       "      <td>2005.0</td>\n",
       "      <td>2.99</td>\n",
       "      <td>126.0</td>\n",
       "      <td>16.99</td>\n",
       "      <td>{Trailers,\"Behind the Scenes\"}</td>\n",
       "      <td>0</td>\n",
       "      <td>0</td>\n",
       "      <td>0</td>\n",
       "      <td>1</td>\n",
       "      <td>8.9401</td>\n",
       "      <td>15876.0</td>\n",
       "      <td>8.9401</td>\n",
       "    </tr>\n",
       "    <tr>\n",
       "      <th>4</th>\n",
       "      <td>2005-08-19 12:30:04+00:00</td>\n",
       "      <td>2005-08-23 13:35:04+00:00</td>\n",
       "      <td>2.99</td>\n",
       "      <td>2005.0</td>\n",
       "      <td>2.99</td>\n",
       "      <td>126.0</td>\n",
       "      <td>16.99</td>\n",
       "      <td>{Trailers,\"Behind the Scenes\"}</td>\n",
       "      <td>0</td>\n",
       "      <td>0</td>\n",
       "      <td>0</td>\n",
       "      <td>1</td>\n",
       "      <td>8.9401</td>\n",
       "      <td>15876.0</td>\n",
       "      <td>8.9401</td>\n",
       "    </tr>\n",
       "  </tbody>\n",
       "</table>\n",
       "</div>"
      ],
      "text/plain": [
       "                 rental_date                return_date  amount  release_year  \\\n",
       "0  2005-05-25 02:54:33+00:00  2005-05-28 23:40:33+00:00    2.99        2005.0   \n",
       "1  2005-06-15 23:19:16+00:00  2005-06-18 19:24:16+00:00    2.99        2005.0   \n",
       "2  2005-07-10 04:27:45+00:00  2005-07-17 10:11:45+00:00    2.99        2005.0   \n",
       "3  2005-07-31 12:06:41+00:00  2005-08-02 14:30:41+00:00    2.99        2005.0   \n",
       "4  2005-08-19 12:30:04+00:00  2005-08-23 13:35:04+00:00    2.99        2005.0   \n",
       "\n",
       "   rental_rate  length  replacement_cost                special_features  \\\n",
       "0         2.99   126.0             16.99  {Trailers,\"Behind the Scenes\"}   \n",
       "1         2.99   126.0             16.99  {Trailers,\"Behind the Scenes\"}   \n",
       "2         2.99   126.0             16.99  {Trailers,\"Behind the Scenes\"}   \n",
       "3         2.99   126.0             16.99  {Trailers,\"Behind the Scenes\"}   \n",
       "4         2.99   126.0             16.99  {Trailers,\"Behind the Scenes\"}   \n",
       "\n",
       "   NC-17  PG  PG-13  R  amount_2  length_2  rental_rate_2  \n",
       "0      0   0      0  1    8.9401   15876.0         8.9401  \n",
       "1      0   0      0  1    8.9401   15876.0         8.9401  \n",
       "2      0   0      0  1    8.9401   15876.0         8.9401  \n",
       "3      0   0      0  1    8.9401   15876.0         8.9401  \n",
       "4      0   0      0  1    8.9401   15876.0         8.9401  "
      ]
     },
     "execution_count": 3,
     "metadata": {},
     "output_type": "execute_result"
    }
   ],
   "source": [
    "df_rental.head()"
   ]
  },
  {
   "cell_type": "code",
   "execution_count": 4,
   "id": "b7fe9b50-a92f-464f-bd54-071c8e5f92a1",
   "metadata": {},
   "outputs": [
    {
     "name": "stdout",
     "output_type": "stream",
     "text": [
      "<class 'pandas.core.frame.DataFrame'>\n",
      "RangeIndex: 15861 entries, 0 to 15860\n",
      "Data columns (total 15 columns):\n",
      " #   Column            Non-Null Count  Dtype  \n",
      "---  ------            --------------  -----  \n",
      " 0   rental_date       15861 non-null  object \n",
      " 1   return_date       15861 non-null  object \n",
      " 2   amount            15861 non-null  float64\n",
      " 3   release_year      15861 non-null  float64\n",
      " 4   rental_rate       15861 non-null  float64\n",
      " 5   length            15861 non-null  float64\n",
      " 6   replacement_cost  15861 non-null  float64\n",
      " 7   special_features  15861 non-null  object \n",
      " 8   NC-17             15861 non-null  int64  \n",
      " 9   PG                15861 non-null  int64  \n",
      " 10  PG-13             15861 non-null  int64  \n",
      " 11  R                 15861 non-null  int64  \n",
      " 12  amount_2          15861 non-null  float64\n",
      " 13  length_2          15861 non-null  float64\n",
      " 14  rental_rate_2     15861 non-null  float64\n",
      "dtypes: float64(8), int64(4), object(3)\n",
      "memory usage: 1.8+ MB\n"
     ]
    }
   ],
   "source": [
    "df_rental.info()"
   ]
  },
  {
   "cell_type": "code",
   "execution_count": 5,
   "id": "f058b7ed-92e8-4ebf-8c01-9c85c4d490c7",
   "metadata": {},
   "outputs": [],
   "source": [
    "# Add information on rental duration\n",
    "df_rental[\"rental_length\"] = pd.to_datetime(df_rental[\"return_date\"]) - pd.to_datetime(df_rental[\"rental_date\"])\n",
    "df_rental[\"rental_length_days\"] = df_rental[\"rental_length\"].dt.days"
   ]
  },
  {
   "cell_type": "code",
   "execution_count": 6,
   "id": "da7927c8-efb5-416e-9550-235f84a40f70",
   "metadata": {},
   "outputs": [],
   "source": [
    "#Add dummy variables\n",
    "# Add dummy for deleted scenes\n",
    "df_rental[\"deleted_scenes\"] =  np.where(df_rental[\"special_features\"].str.contains(\"Deleted Scenes\"), 1, 0)\n",
    "# Add dummy for behind the scenes\n",
    "df_rental[\"behind_the_scenes\"] =  np.where(df_rental[\"special_features\"].str.contains(\"Behind the Scenes\"), 1, 0)"
   ]
  },
  {
   "cell_type": "code",
   "execution_count": 7,
   "id": "eec99ad2-6945-408e-b0a1-3e27dcf6054a",
   "metadata": {},
   "outputs": [
    {
     "name": "stdout",
     "output_type": "stream",
     "text": [
      "<class 'pandas.core.frame.DataFrame'>\n",
      "RangeIndex: 15861 entries, 0 to 15860\n",
      "Data columns (total 19 columns):\n",
      " #   Column              Non-Null Count  Dtype          \n",
      "---  ------              --------------  -----          \n",
      " 0   rental_date         15861 non-null  object         \n",
      " 1   return_date         15861 non-null  object         \n",
      " 2   amount              15861 non-null  float64        \n",
      " 3   release_year        15861 non-null  float64        \n",
      " 4   rental_rate         15861 non-null  float64        \n",
      " 5   length              15861 non-null  float64        \n",
      " 6   replacement_cost    15861 non-null  float64        \n",
      " 7   special_features    15861 non-null  object         \n",
      " 8   NC-17               15861 non-null  int64          \n",
      " 9   PG                  15861 non-null  int64          \n",
      " 10  PG-13               15861 non-null  int64          \n",
      " 11  R                   15861 non-null  int64          \n",
      " 12  amount_2            15861 non-null  float64        \n",
      " 13  length_2            15861 non-null  float64        \n",
      " 14  rental_rate_2       15861 non-null  float64        \n",
      " 15  rental_length       15861 non-null  timedelta64[ns]\n",
      " 16  rental_length_days  15861 non-null  int64          \n",
      " 17  deleted_scenes      15861 non-null  int32          \n",
      " 18  behind_the_scenes   15861 non-null  int32          \n",
      "dtypes: float64(8), int32(2), int64(5), object(3), timedelta64[ns](1)\n",
      "memory usage: 2.2+ MB\n"
     ]
    }
   ],
   "source": [
    "df_rental.info()"
   ]
  },
  {
   "cell_type": "code",
   "execution_count": 11,
   "id": "2219dc5b-64fd-4051-910e-cb051d58be28",
   "metadata": {},
   "outputs": [],
   "source": [
    "# Choose columns to drop\n",
    "cols_to_drop = [\"special_features\", \"rental_length\", \"rental_length_days\", \"rental_date\", \"return_date\"]"
   ]
  },
  {
   "cell_type": "code",
   "execution_count": 12,
   "id": "38577e4a-e514-464c-bd5c-1da9faa8efce",
   "metadata": {},
   "outputs": [],
   "source": [
    "# Split into feature and target sets\n",
    "X = df_rental.drop(cols_to_drop, axis=1)\n",
    "y = df_rental[\"rental_length_days\"]\n",
    "\n",
    "# Split dataset into 80% train and 20% test\n",
    "X_train,X_test,y_train,y_test = train_test_split(X, \n",
    "                                                 y, \n",
    "                                                 test_size=0.2, \n",
    "                                                 random_state=9)"
   ]
  },
  {
   "cell_type": "code",
   "execution_count": 13,
   "id": "cf8d5d91-356b-4815-9d92-da320fd46d3b",
   "metadata": {},
   "outputs": [],
   "source": [
    "# Create the Lasso model\n",
    "lasso = Lasso(alpha=0.3, random_state=9) \n",
    "\n",
    "# Train the model \n",
    "lasso.fit(X_train, y_train)\n",
    "#Access the coefficients\n",
    "lasso_coef = lasso.coef_\n",
    "\n",
    "# Choosing columns with positive coefficients\n",
    "X_lasso_train, X_lasso_test = X_train.iloc[:, lasso_coef > 0], X_test.iloc[:, lasso_coef > 0]\n",
    "\n",
    "# Run OLS models on lasso chosen regression\n",
    "ols = LinearRegression()\n",
    "ols = ols.fit(X_lasso_train, y_train)\n",
    "y_test_pred = ols.predict(X_lasso_test)\n",
    "mse_lin_reg_lasso = mean_squared_error(y_test, y_test_pred)\n"
   ]
  },
  {
   "cell_type": "code",
   "execution_count": 14,
   "id": "e7db36c9-e48e-45f4-9f8f-401d616d06d4",
   "metadata": {},
   "outputs": [],
   "source": [
    "# Random forest hyperparameter space\n",
    "param_dist = {'n_estimators': np.arange(1,101,1),\n",
    "          'max_depth':np.arange(1,11,1)}\n",
    "\n",
    "# Instantiate a Random Forest Regressor\n",
    "rf = RandomForestRegressor()\n",
    "\n",
    "# Use random search to find the best hyperparameters\n",
    "rand_search = RandomizedSearchCV(rf, \n",
    "                                 param_distributions=param_dist, \n",
    "                                 cv=5, \n",
    "                                 random_state=9)\n",
    "\n",
    "# Fit rand_search to the training set\n",
    "rand_search.fit(X_train, y_train)\n",
    "\n",
    "# Extract the best hyperparameters\n",
    "hyper_params = rand_search.best_params_\n",
    "\n",
    "# Instantiate the RFRegressor with the chosen hyperparameters\n",
    "rf = RandomForestRegressor(n_estimators=hyper_params[\"n_estimators\"], \n",
    "                           max_depth=hyper_params[\"max_depth\"], \n",
    "                           random_state=9)\n",
    "\n",
    "# Fit 'rf' to the training set\n",
    "rf.fit(X_train,y_train)\n",
    "\n",
    "#Predict test set \n",
    "rf_pred = rf.predict(X_test)"
   ]
  },
  {
   "cell_type": "code",
   "execution_count": 15,
   "id": "bd9fb8a3-f2b7-4ba4-a711-bd037d4657a3",
   "metadata": {},
   "outputs": [
    {
     "data": {
      "text/plain": [
       "2.225667528098759"
      ]
     },
     "execution_count": 15,
     "metadata": {},
     "output_type": "execute_result"
    }
   ],
   "source": [
    "#Evaluate the test set\n",
    "mse_random_forest= mean_squared_error(y_test, rf_pred)\n",
    "\n",
    "# Random forest gives lowest MSE so:\n",
    "best_model = rf\n",
    "best_mse = mse_random_forest\n",
    "best_mse"
   ]
  },
  {
   "cell_type": "code",
   "execution_count": null,
   "id": "a55549a3-c433-4e69-9d9d-f91cbf8dbcf0",
   "metadata": {},
   "outputs": [],
   "source": []
  }
 ],
 "metadata": {
  "colab": {
   "name": "Welcome to DataCamp Workspaces.ipynb",
   "provenance": []
  },
  "kernelspec": {
   "display_name": "Python 3 (ipykernel)",
   "language": "python",
   "name": "python3"
  },
  "language_info": {
   "codemirror_mode": {
    "name": "ipython",
    "version": 3
   },
   "file_extension": ".py",
   "mimetype": "text/x-python",
   "name": "python",
   "nbconvert_exporter": "python",
   "pygments_lexer": "ipython3",
   "version": "3.11.4"
  }
 },
 "nbformat": 4,
 "nbformat_minor": 5
}
